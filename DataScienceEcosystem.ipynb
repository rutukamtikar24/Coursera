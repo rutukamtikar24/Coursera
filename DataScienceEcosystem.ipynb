{
 "cells": [
  {
   "cell_type": "markdown",
   "id": "b8c63282-3356-44e6-970d-935d1ced9160",
   "metadata": {},
   "source": [
    "# Data Science Tools and Ecosystem"
   ]
  },
  {
   "cell_type": "markdown",
   "id": "267d8876-8b95-414a-ae9f-c2bec39256b8",
   "metadata": {},
   "source": [
    "In this notebook, Data Science Tools and Ecosystem are summarized."
   ]
  },
  {
   "cell_type": "markdown",
   "id": "b1b0d69b-a20b-4809-be7b-e23a25b116bc",
   "metadata": {},
   "source": [
    "**Objectives:**\n",
    "* List popular languages for Data Science\n",
    "* Data science tools\n",
    "* GitHub\n",
    "* Watson Studio\n",
    "* Jupyter Notebooks"
   ]
  },
  {
   "cell_type": "markdown",
   "id": "bb52c2ae-3087-49f3-bbae-fd5a0d50eebc",
   "metadata": {},
   "source": [
    "Some of the popular languages that Data Scientists use are:\n",
    "1. Python\n",
    "2. SQL\n",
    "3. R Programming"
   ]
  },
  {
   "cell_type": "markdown",
   "id": "6e691c80-b5e3-448f-b513-80f232e2f2ee",
   "metadata": {},
   "source": [
    "Some of the commonly used libraries used by Data Scientists include:\n",
    "1. pandas\n",
    "2. Numpy\n",
    "3. keras\n",
    "4. TensorFlow\n",
    "5. SciKit Learn \n"
   ]
  },
  {
   "cell_type": "markdown",
   "id": "99898d3e-eea9-45c9-970c-d016de25b2ee",
   "metadata": {},
   "source": [
    "Data Science Tools |\n",
    "--- |\n",
    "R Studio |\n",
    "Jupyter Notebooks |\n",
    "Zeppelin Notebooks |"
   ]
  },
  {
   "cell_type": "markdown",
   "id": "74455232-ef38-4375-b4b9-e137ea7aacfd",
   "metadata": {},
   "source": [
    "### Below are a few examples of evaluating arithmetic expressions in Python\n",
    "---"
   ]
  },
  {
   "cell_type": "code",
   "execution_count": 2,
   "id": "69a49a84-8b1c-47d1-8513-38d8170164d2",
   "metadata": {},
   "outputs": [
    {
     "name": "stdout",
     "output_type": "stream",
     "text": [
      "17\n"
     ]
    }
   ],
   "source": [
    "# This a simple arithmetic expression to mutiply then add integers\n",
    "print((3*4)+5)"
   ]
  },
  {
   "cell_type": "code",
   "execution_count": 7,
   "id": "bb218a58-4998-48bf-8939-bb3a4e8051e6",
   "metadata": {},
   "outputs": [
    {
     "name": "stdout",
     "output_type": "stream",
     "text": [
      "3.3333333333333335 hours\n"
     ]
    }
   ],
   "source": [
    "# This will convert 200 minutes to hours by diving by 60\n",
    "a = 200/60\n",
    "print(a, 'hours')"
   ]
  },
  {
   "cell_type": "markdown",
   "id": "222e8b34-db0f-4f23-bfae-30150fe8f179",
   "metadata": {},
   "source": [
    "## Author\n",
    "---\n",
    "Rutu Kamtikar"
   ]
  }
 ],
 "metadata": {
  "kernelspec": {
   "display_name": "Python",
   "language": "python",
   "name": "conda-env-python-py"
  },
  "language_info": {
   "codemirror_mode": {
    "name": "ipython",
    "version": 3
   },
   "file_extension": ".py",
   "mimetype": "text/x-python",
   "name": "python",
   "nbconvert_exporter": "python",
   "pygments_lexer": "ipython3",
   "version": "3.7.12"
  }
 },
 "nbformat": 4,
 "nbformat_minor": 5
}
